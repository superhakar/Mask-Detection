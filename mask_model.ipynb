{
  "nbformat": 4,
  "nbformat_minor": 0,
  "metadata": {
    "kernelspec": {
      "display_name": "Python 3",
      "language": "python",
      "name": "python3"
    },
    "language_info": {
      "codemirror_mode": {
        "name": "ipython",
        "version": 3
      },
      "file_extension": ".py",
      "mimetype": "text/x-python",
      "name": "python",
      "nbconvert_exporter": "python",
      "pygments_lexer": "ipython3",
      "version": "3.8.8"
    },
    "colab": {
      "name": "Train_Model.ipynb",
      "provenance": [],
      "collapsed_sections": []
    },
    "accelerator": "GPU",
    "widgets": {
      "application/vnd.jupyter.widget-state+json": {
        "aae50e0eb83747f3ac96fc05c9733a59": {
          "model_module": "@jupyter-widgets/controls",
          "model_name": "HBoxModel",
          "state": {
            "_view_name": "HBoxView",
            "_dom_classes": [],
            "_model_name": "HBoxModel",
            "_view_module": "@jupyter-widgets/controls",
            "_model_module_version": "1.5.0",
            "_view_count": null,
            "_view_module_version": "1.5.0",
            "box_style": "",
            "layout": "IPY_MODEL_9bfb186c6d8c435f84d59856f7598450",
            "_model_module": "@jupyter-widgets/controls",
            "children": [
              "IPY_MODEL_c27508e6e8694ebdba361ff128fde937",
              "IPY_MODEL_dc4a638ef6a54fcba480e65295d6eb01"
            ]
          }
        },
        "9bfb186c6d8c435f84d59856f7598450": {
          "model_module": "@jupyter-widgets/base",
          "model_name": "LayoutModel",
          "state": {
            "_view_name": "LayoutView",
            "grid_template_rows": null,
            "right": null,
            "justify_content": null,
            "_view_module": "@jupyter-widgets/base",
            "overflow": null,
            "_model_module_version": "1.2.0",
            "_view_count": null,
            "flex_flow": null,
            "width": null,
            "min_width": null,
            "border": null,
            "align_items": null,
            "bottom": null,
            "_model_module": "@jupyter-widgets/base",
            "top": null,
            "grid_column": null,
            "overflow_y": null,
            "overflow_x": null,
            "grid_auto_flow": null,
            "grid_area": null,
            "grid_template_columns": null,
            "flex": null,
            "_model_name": "LayoutModel",
            "justify_items": null,
            "grid_row": null,
            "max_height": null,
            "align_content": null,
            "visibility": null,
            "align_self": null,
            "height": null,
            "min_height": null,
            "padding": null,
            "grid_auto_rows": null,
            "grid_gap": null,
            "max_width": null,
            "order": null,
            "_view_module_version": "1.2.0",
            "grid_template_areas": null,
            "object_position": null,
            "object_fit": null,
            "grid_auto_columns": null,
            "margin": null,
            "display": null,
            "left": null
          }
        },
        "c27508e6e8694ebdba361ff128fde937": {
          "model_module": "@jupyter-widgets/controls",
          "model_name": "FloatProgressModel",
          "state": {
            "_view_name": "ProgressView",
            "style": "IPY_MODEL_f0d036eb17c14fd28c17c56702564fa6",
            "_dom_classes": [],
            "description": "100%",
            "_model_name": "FloatProgressModel",
            "bar_style": "success",
            "max": 100,
            "_view_module": "@jupyter-widgets/controls",
            "_model_module_version": "1.5.0",
            "value": 100,
            "_view_count": null,
            "_view_module_version": "1.5.0",
            "orientation": "horizontal",
            "min": 0,
            "description_tooltip": null,
            "_model_module": "@jupyter-widgets/controls",
            "layout": "IPY_MODEL_47b4ae9536c2421ab1654a8f03a1450f"
          }
        },
        "dc4a638ef6a54fcba480e65295d6eb01": {
          "model_module": "@jupyter-widgets/controls",
          "model_name": "HTMLModel",
          "state": {
            "_view_name": "HTMLView",
            "style": "IPY_MODEL_4733544c32284ce2bbe09d1659848dd4",
            "_dom_classes": [],
            "description": "",
            "_model_name": "HTMLModel",
            "placeholder": "​",
            "_view_module": "@jupyter-widgets/controls",
            "_model_module_version": "1.5.0",
            "value": " 100/100 [17:20&lt;00:00, 10.40s/it]",
            "_view_count": null,
            "_view_module_version": "1.5.0",
            "description_tooltip": null,
            "_model_module": "@jupyter-widgets/controls",
            "layout": "IPY_MODEL_ac39360e6c31452ba1cdb44b5f7a6c36"
          }
        },
        "f0d036eb17c14fd28c17c56702564fa6": {
          "model_module": "@jupyter-widgets/controls",
          "model_name": "ProgressStyleModel",
          "state": {
            "_view_name": "StyleView",
            "_model_name": "ProgressStyleModel",
            "description_width": "initial",
            "_view_module": "@jupyter-widgets/base",
            "_model_module_version": "1.5.0",
            "_view_count": null,
            "_view_module_version": "1.2.0",
            "bar_color": null,
            "_model_module": "@jupyter-widgets/controls"
          }
        },
        "47b4ae9536c2421ab1654a8f03a1450f": {
          "model_module": "@jupyter-widgets/base",
          "model_name": "LayoutModel",
          "state": {
            "_view_name": "LayoutView",
            "grid_template_rows": null,
            "right": null,
            "justify_content": null,
            "_view_module": "@jupyter-widgets/base",
            "overflow": null,
            "_model_module_version": "1.2.0",
            "_view_count": null,
            "flex_flow": null,
            "width": null,
            "min_width": null,
            "border": null,
            "align_items": null,
            "bottom": null,
            "_model_module": "@jupyter-widgets/base",
            "top": null,
            "grid_column": null,
            "overflow_y": null,
            "overflow_x": null,
            "grid_auto_flow": null,
            "grid_area": null,
            "grid_template_columns": null,
            "flex": null,
            "_model_name": "LayoutModel",
            "justify_items": null,
            "grid_row": null,
            "max_height": null,
            "align_content": null,
            "visibility": null,
            "align_self": null,
            "height": null,
            "min_height": null,
            "padding": null,
            "grid_auto_rows": null,
            "grid_gap": null,
            "max_width": null,
            "order": null,
            "_view_module_version": "1.2.0",
            "grid_template_areas": null,
            "object_position": null,
            "object_fit": null,
            "grid_auto_columns": null,
            "margin": null,
            "display": null,
            "left": null
          }
        },
        "4733544c32284ce2bbe09d1659848dd4": {
          "model_module": "@jupyter-widgets/controls",
          "model_name": "DescriptionStyleModel",
          "state": {
            "_view_name": "StyleView",
            "_model_name": "DescriptionStyleModel",
            "description_width": "",
            "_view_module": "@jupyter-widgets/base",
            "_model_module_version": "1.5.0",
            "_view_count": null,
            "_view_module_version": "1.2.0",
            "_model_module": "@jupyter-widgets/controls"
          }
        },
        "ac39360e6c31452ba1cdb44b5f7a6c36": {
          "model_module": "@jupyter-widgets/base",
          "model_name": "LayoutModel",
          "state": {
            "_view_name": "LayoutView",
            "grid_template_rows": null,
            "right": null,
            "justify_content": null,
            "_view_module": "@jupyter-widgets/base",
            "overflow": null,
            "_model_module_version": "1.2.0",
            "_view_count": null,
            "flex_flow": null,
            "width": null,
            "min_width": null,
            "border": null,
            "align_items": null,
            "bottom": null,
            "_model_module": "@jupyter-widgets/base",
            "top": null,
            "grid_column": null,
            "overflow_y": null,
            "overflow_x": null,
            "grid_auto_flow": null,
            "grid_area": null,
            "grid_template_columns": null,
            "flex": null,
            "_model_name": "LayoutModel",
            "justify_items": null,
            "grid_row": null,
            "max_height": null,
            "align_content": null,
            "visibility": null,
            "align_self": null,
            "height": null,
            "min_height": null,
            "padding": null,
            "grid_auto_rows": null,
            "grid_gap": null,
            "max_width": null,
            "order": null,
            "_view_module_version": "1.2.0",
            "grid_template_areas": null,
            "object_position": null,
            "object_fit": null,
            "grid_auto_columns": null,
            "margin": null,
            "display": null,
            "left": null
          }
        }
      }
    }
  },
  "cells": [
    {
      "cell_type": "code",
      "metadata": {
        "id": "R76ZiSXR9EaF"
      },
      "source": [
        "import torch\n",
        "import torch.nn as nn\n",
        "import torch.nn.functional as F\n",
        "import torch.optim as optim\n",
        "import torchvision\n",
        "from torchvision import transforms\n",
        "from PIL import Image\n",
        "from torchvision import datasets\n",
        "from torch.utils.data import DataLoader"
      ],
      "execution_count": 1,
      "outputs": []
    },
    {
      "cell_type": "code",
      "metadata": {
        "id": "ZaUg1Mn59EaS"
      },
      "source": [
        "#Image transformations\n",
        "\n",
        "image_transforms = {\n",
        "    'train':\n",
        "    transforms.Compose([\n",
        "        transforms.Resize(size=(224,224)),\n",
        "        transforms.RandomRotation(degrees=15),\n",
        "        transforms.ColorJitter(),\n",
        "        transforms.RandomHorizontalFlip(),\n",
        "        transforms.ToTensor(),\n",
        "        transforms.Normalize([0.485, 0.456, 0.406],\n",
        "                             [0.229, 0.224, 0.225])\n",
        "    ]),\n",
        "    'test':\n",
        "    transforms.Compose([\n",
        "        transforms.Resize(size=(224,224)),\n",
        "        transforms.ToTensor(),\n",
        "        transforms.Normalize([0.485, 0.456, 0.406], \n",
        "                             [0.229, 0.224, 0.225])\n",
        "    ])\n",
        "}"
      ],
      "execution_count": 2,
      "outputs": []
    },
    {
      "cell_type": "code",
      "metadata": {
        "id": "SBE5jIB79EaT"
      },
      "source": [
        "# Importing Dataset \n",
        "data = {\n",
        "    'train':\n",
        "    datasets.ImageFolder(root='/content/drive/MyDrive/VR_project/mask_code/dataset2/train', transform=image_transforms['train']),\n",
        "    'test':\n",
        "    datasets.ImageFolder(root='/content/drive/MyDrive/VR_project/mask_code/dataset2/test', transform=image_transforms['test']),\n",
        "}\n",
        "\n",
        "# Dataloader iterators, used for making batches\n",
        "dataloaders = {\n",
        "    'train': DataLoader(data['train'], batch_size=100, shuffle=True),\n",
        "    'test': DataLoader(data['test'], batch_size=100, shuffle=True)\n",
        "}"
      ],
      "execution_count": 3,
      "outputs": []
    },
    {
      "cell_type": "code",
      "metadata": {
        "id": "dA8rCZx59MEz"
      },
      "source": [
        "# from google.colab import drive\n",
        "# drive.mount('/content/drive')"
      ],
      "execution_count": 4,
      "outputs": []
    },
    {
      "cell_type": "code",
      "metadata": {
        "tags": [],
        "colab": {
          "base_uri": "https://localhost:8080/"
        },
        "id": "GGg1Sbk79EaU",
        "outputId": "bec1edc8-67bd-4e70-82f3-3d71c0b044dc"
      },
      "source": [
        "#Importing MobileNetv2 model\n",
        "model = torch.hub.load('pytorch/vision:v0.6.0', 'mobilenet_v2', pretrained=True)"
      ],
      "execution_count": 5,
      "outputs": [
        {
          "output_type": "stream",
          "text": [
            "Using cache found in /root/.cache/torch/hub/pytorch_vision_v0.6.0\n"
          ],
          "name": "stderr"
        }
      ]
    },
    {
      "cell_type": "code",
      "metadata": {
        "id": "enbHTFfO9EaY"
      },
      "source": [
        "# Holding the starting layers of MobileNetv2\n",
        "for param in model.parameters():\n",
        "    param.requires_grad = False"
      ],
      "execution_count": 6,
      "outputs": []
    },
    {
      "cell_type": "code",
      "metadata": {
        "id": "vIjViyEF9EaZ"
      },
      "source": [
        "# Making a classifier\n",
        "model.classifier[1] = nn.Sequential(\n",
        "                      nn.Linear(1280, 256),\n",
        "                      nn.ReLU(),\n",
        "                      nn.Linear(256, 128),\n",
        "                      nn.ReLU(), \n",
        "                      nn.Dropout(0.4),\n",
        "                      nn.Linear(128, 64),\n",
        "                      nn.ReLU(),\n",
        "                      nn.Linear(64, 32),\n",
        "                      nn.ReLU(),\n",
        "                      nn.Dropout(0.4),\n",
        "                      nn.Linear(32, 2), \n",
        "                      nn.LogSoftmax(dim=1))"
      ],
      "execution_count": 7,
      "outputs": []
    },
    {
      "cell_type": "code",
      "metadata": {
        "tags": [],
        "colab": {
          "base_uri": "https://localhost:8080/"
        },
        "id": "Q8-zVs4b9Eaa",
        "outputId": "fae06899-64fc-4519-8c83-b893e1d52d2a"
      },
      "source": [
        "print(sum(p.numel() for p in model.parameters() if p.requires_grad))"
      ],
      "execution_count": 8,
      "outputs": [
        {
          "output_type": "stream",
          "text": [
            "371234\n"
          ],
          "name": "stdout"
        }
      ]
    },
    {
      "cell_type": "code",
      "metadata": {
        "tags": [],
        "colab": {
          "base_uri": "https://localhost:8080/"
        },
        "id": "LKXs4T7R9Eab",
        "outputId": "f7d7d50b-4b4f-4443-e6e8-5d0bed3eccf2"
      },
      "source": [
        "# GPU Support\n",
        "if torch.cuda.is_available():\n",
        "    print('training on GPU')\n",
        "    device = torch.device(\"cuda:0\")\n",
        "else:\n",
        "    print('training on CPU')\n",
        "    device = torch.device(\"cpu\")"
      ],
      "execution_count": 9,
      "outputs": [
        {
          "output_type": "stream",
          "text": [
            "training on GPU\n"
          ],
          "name": "stdout"
        }
      ]
    },
    {
      "cell_type": "code",
      "metadata": {
        "id": "TLsqaw6x9Eab"
      },
      "source": [
        "from tqdm.notebook import tqdm\n",
        "\n",
        "def train(model, optimizer, loss_fn, train_loader, val_loader, epochs,device):\n",
        "    train_loss = []\n",
        "    test_loss = []\n",
        "    test_accuracy = []\n",
        "    for epoch in tqdm(range(epochs)):\n",
        "\n",
        "        # Train model\n",
        "        training_loss = 0.0\n",
        "        valid_loss = 0.0\n",
        "        model.train()\n",
        "        for batch in (train_loader):\n",
        "            optimizer.zero_grad()\n",
        "            inputs, targets = batch\n",
        "            inputs = inputs.to(device)\n",
        "            targets = targets.to(device)\n",
        "            output = model(inputs)\n",
        "            loss = loss_fn(output, targets)\n",
        "            loss.backward()\n",
        "            optimizer.step()\n",
        "            training_loss += loss.data.item() * inputs.size(0)\n",
        "        training_loss /= len(train_loader.dataset)\n",
        "        \n",
        "        # Evaluate model\n",
        "        model.eval()\n",
        "        num_correct = 0 \n",
        "        num_examples = 0\n",
        "        for batch in (val_loader):\n",
        "            inputs, targets = batch\n",
        "            inputs = inputs.to(device)\n",
        "            output = model(inputs)\n",
        "            targets = targets.to(device)\n",
        "            loss = loss_fn(output,targets) \n",
        "            valid_loss += loss.data.item() * inputs.size(0)          \n",
        "            correct = torch.eq(torch.max(F.softmax(output, dim=1), dim=1)[1], targets).view(-1)\n",
        "            num_correct += torch.sum(correct).item()\n",
        "            num_examples += correct.shape[0]\n",
        "        valid_loss /= len(val_loader.dataset)\n",
        "\n",
        "        train_loss.append(training_loss)\n",
        "        test_loss.append(valid_loss)\n",
        "        test_accuracy.append(num_correct / num_examples)\n",
        "        print('Epoch: {}, Training Loss: {:.4f}, Validation Loss: {:.4f}, accuracy = {:.4f}'.format(epoch, training_loss,valid_loss, num_correct / num_examples))\n",
        "\n",
        "    return train_loss, test_loss,test_accuracy\n"
      ],
      "execution_count": 10,
      "outputs": []
    },
    {
      "cell_type": "code",
      "metadata": {
        "colab": {
          "base_uri": "https://localhost:8080/"
        },
        "id": "Lcwf_YpA9Eaf",
        "outputId": "61f729b3-0b88-474c-d58c-6fb0af91170f"
      },
      "source": [
        "# Enabling GPU\n",
        "model=model.to(device)\n",
        "print(device)"
      ],
      "execution_count": 11,
      "outputs": [
        {
          "output_type": "stream",
          "text": [
            "cuda:0\n"
          ],
          "name": "stdout"
        }
      ]
    },
    {
      "cell_type": "code",
      "metadata": {
        "id": "MwHRKg7a9Eag"
      },
      "source": [
        "# Defining optimizer and Loss function\n",
        "optimizer = optim.Adam(model.parameters(), lr=0.001)\n",
        "loss = torch.nn.CrossEntropyLoss()"
      ],
      "execution_count": 14,
      "outputs": []
    },
    {
      "cell_type": "code",
      "metadata": {
        "tags": [],
        "colab": {
          "base_uri": "https://localhost:8080/",
          "height": 1000,
          "referenced_widgets": [
            "aae50e0eb83747f3ac96fc05c9733a59",
            "9bfb186c6d8c435f84d59856f7598450",
            "c27508e6e8694ebdba361ff128fde937",
            "dc4a638ef6a54fcba480e65295d6eb01",
            "f0d036eb17c14fd28c17c56702564fa6",
            "47b4ae9536c2421ab1654a8f03a1450f",
            "4733544c32284ce2bbe09d1659848dd4",
            "ac39360e6c31452ba1cdb44b5f7a6c36"
          ]
        },
        "id": "bPf6D9kd9Eag",
        "outputId": "d10fdf02-3880-4858-967d-1e14ae560924"
      },
      "source": [
        "# Training model\n",
        "(train_loss,test_loss,test_accuracy) = train(model, optimizer,loss,dataloaders['train'],dataloaders['test'],100,device)"
      ],
      "execution_count": 15,
      "outputs": [
        {
          "output_type": "display_data",
          "data": {
            "application/vnd.jupyter.widget-view+json": {
              "model_id": "aae50e0eb83747f3ac96fc05c9733a59",
              "version_minor": 0,
              "version_major": 2
            },
            "text/plain": [
              "HBox(children=(FloatProgress(value=0.0), HTML(value='')))"
            ]
          },
          "metadata": {
            "tags": []
          }
        },
        {
          "output_type": "stream",
          "text": [
            "Epoch: 0, Training Loss: 0.5454, Validation Loss: 0.2899, accuracy = 0.9918\n",
            "Epoch: 1, Training Loss: 0.2369, Validation Loss: 0.1444, accuracy = 0.9590\n",
            "Epoch: 2, Training Loss: 0.0906, Validation Loss: 0.0750, accuracy = 0.9836\n",
            "Epoch: 3, Training Loss: 0.0475, Validation Loss: 0.0612, accuracy = 0.9918\n",
            "Epoch: 4, Training Loss: 0.0447, Validation Loss: 0.1078, accuracy = 0.9836\n",
            "Epoch: 5, Training Loss: 0.0504, Validation Loss: 0.0662, accuracy = 0.9918\n",
            "Epoch: 6, Training Loss: 0.0216, Validation Loss: 0.0401, accuracy = 0.9836\n",
            "Epoch: 7, Training Loss: 0.0143, Validation Loss: 0.0781, accuracy = 0.9918\n",
            "Epoch: 8, Training Loss: 0.0493, Validation Loss: 0.0910, accuracy = 0.9918\n",
            "Epoch: 9, Training Loss: 0.0257, Validation Loss: 0.0744, accuracy = 0.9836\n",
            "Epoch: 10, Training Loss: 0.0177, Validation Loss: 0.0755, accuracy = 0.9836\n",
            "Epoch: 11, Training Loss: 0.0309, Validation Loss: 0.0730, accuracy = 0.9836\n",
            "Epoch: 12, Training Loss: 0.0250, Validation Loss: 0.0619, accuracy = 0.9836\n",
            "Epoch: 13, Training Loss: 0.0216, Validation Loss: 0.0743, accuracy = 0.9754\n",
            "Epoch: 14, Training Loss: 0.0456, Validation Loss: 0.0719, accuracy = 0.9754\n",
            "Epoch: 15, Training Loss: 0.0166, Validation Loss: 0.0515, accuracy = 0.9918\n",
            "Epoch: 16, Training Loss: 0.0122, Validation Loss: 0.0566, accuracy = 0.9836\n",
            "Epoch: 17, Training Loss: 0.0117, Validation Loss: 0.0624, accuracy = 0.9918\n",
            "Epoch: 18, Training Loss: 0.0166, Validation Loss: 0.0706, accuracy = 0.9836\n",
            "Epoch: 19, Training Loss: 0.0351, Validation Loss: 0.0431, accuracy = 0.9836\n",
            "Epoch: 20, Training Loss: 0.0116, Validation Loss: 0.0398, accuracy = 0.9918\n",
            "Epoch: 21, Training Loss: 0.0159, Validation Loss: 0.0436, accuracy = 0.9836\n",
            "Epoch: 22, Training Loss: 0.0124, Validation Loss: 0.0535, accuracy = 0.9918\n",
            "Epoch: 23, Training Loss: 0.0202, Validation Loss: 0.0456, accuracy = 0.9918\n",
            "Epoch: 24, Training Loss: 0.0291, Validation Loss: 0.0647, accuracy = 0.9754\n",
            "Epoch: 25, Training Loss: 0.0296, Validation Loss: 0.0571, accuracy = 0.9918\n",
            "Epoch: 26, Training Loss: 0.0091, Validation Loss: 0.0792, accuracy = 0.9754\n",
            "Epoch: 27, Training Loss: 0.0145, Validation Loss: 0.0571, accuracy = 0.9918\n",
            "Epoch: 28, Training Loss: 0.0205, Validation Loss: 0.0737, accuracy = 0.9918\n",
            "Epoch: 29, Training Loss: 0.0258, Validation Loss: 0.0271, accuracy = 0.9918\n",
            "Epoch: 30, Training Loss: 0.0131, Validation Loss: 0.0362, accuracy = 0.9918\n",
            "Epoch: 31, Training Loss: 0.0118, Validation Loss: 0.0325, accuracy = 0.9918\n",
            "Epoch: 32, Training Loss: 0.0075, Validation Loss: 0.0365, accuracy = 0.9918\n",
            "Epoch: 33, Training Loss: 0.0268, Validation Loss: 0.0414, accuracy = 0.9918\n",
            "Epoch: 34, Training Loss: 0.0343, Validation Loss: 0.0571, accuracy = 0.9836\n",
            "Epoch: 35, Training Loss: 0.0134, Validation Loss: 0.0420, accuracy = 0.9918\n",
            "Epoch: 36, Training Loss: 0.0107, Validation Loss: 0.0228, accuracy = 0.9918\n",
            "Epoch: 37, Training Loss: 0.0100, Validation Loss: 0.0573, accuracy = 0.9918\n",
            "Epoch: 38, Training Loss: 0.0046, Validation Loss: 0.0435, accuracy = 0.9918\n",
            "Epoch: 39, Training Loss: 0.0081, Validation Loss: 0.0386, accuracy = 0.9918\n",
            "Epoch: 40, Training Loss: 0.0140, Validation Loss: 0.0455, accuracy = 0.9918\n",
            "Epoch: 41, Training Loss: 0.0165, Validation Loss: 0.0672, accuracy = 0.9754\n",
            "Epoch: 42, Training Loss: 0.0298, Validation Loss: 0.0239, accuracy = 0.9918\n",
            "Epoch: 43, Training Loss: 0.0141, Validation Loss: 0.0260, accuracy = 0.9918\n",
            "Epoch: 44, Training Loss: 0.0298, Validation Loss: 0.1090, accuracy = 0.9754\n",
            "Epoch: 45, Training Loss: 0.0438, Validation Loss: 0.0184, accuracy = 0.9918\n",
            "Epoch: 46, Training Loss: 0.0226, Validation Loss: 0.0415, accuracy = 0.9836\n",
            "Epoch: 47, Training Loss: 0.0358, Validation Loss: 0.0644, accuracy = 0.9836\n",
            "Epoch: 48, Training Loss: 0.0131, Validation Loss: 0.0406, accuracy = 0.9836\n",
            "Epoch: 49, Training Loss: 0.0163, Validation Loss: 0.0219, accuracy = 0.9918\n",
            "Epoch: 50, Training Loss: 0.0057, Validation Loss: 0.0153, accuracy = 0.9918\n",
            "Epoch: 51, Training Loss: 0.0068, Validation Loss: 0.0251, accuracy = 0.9918\n",
            "Epoch: 52, Training Loss: 0.0115, Validation Loss: 0.0266, accuracy = 0.9918\n",
            "Epoch: 53, Training Loss: 0.0098, Validation Loss: 0.0173, accuracy = 0.9918\n",
            "Epoch: 54, Training Loss: 0.0105, Validation Loss: 0.0403, accuracy = 0.9836\n",
            "Epoch: 55, Training Loss: 0.0108, Validation Loss: 0.0203, accuracy = 0.9836\n",
            "Epoch: 56, Training Loss: 0.0050, Validation Loss: 0.0305, accuracy = 0.9918\n",
            "Epoch: 57, Training Loss: 0.0094, Validation Loss: 0.0363, accuracy = 0.9836\n",
            "Epoch: 58, Training Loss: 0.0278, Validation Loss: 0.0227, accuracy = 0.9918\n",
            "Epoch: 59, Training Loss: 0.0156, Validation Loss: 0.0211, accuracy = 0.9918\n",
            "Epoch: 60, Training Loss: 0.0081, Validation Loss: 0.0169, accuracy = 0.9918\n",
            "Epoch: 61, Training Loss: 0.0115, Validation Loss: 0.0269, accuracy = 0.9918\n",
            "Epoch: 62, Training Loss: 0.0106, Validation Loss: 0.0316, accuracy = 0.9918\n",
            "Epoch: 63, Training Loss: 0.0056, Validation Loss: 0.0168, accuracy = 0.9918\n",
            "Epoch: 64, Training Loss: 0.0156, Validation Loss: 0.0449, accuracy = 0.9918\n",
            "Epoch: 65, Training Loss: 0.0081, Validation Loss: 0.0301, accuracy = 0.9918\n",
            "Epoch: 66, Training Loss: 0.0122, Validation Loss: 0.0134, accuracy = 0.9918\n",
            "Epoch: 67, Training Loss: 0.0086, Validation Loss: 0.0426, accuracy = 0.9836\n",
            "Epoch: 68, Training Loss: 0.0080, Validation Loss: 0.0227, accuracy = 0.9918\n",
            "Epoch: 69, Training Loss: 0.0034, Validation Loss: 0.0401, accuracy = 0.9918\n",
            "Epoch: 70, Training Loss: 0.0120, Validation Loss: 0.0238, accuracy = 0.9918\n",
            "Epoch: 71, Training Loss: 0.0160, Validation Loss: 0.0247, accuracy = 0.9918\n",
            "Epoch: 72, Training Loss: 0.0077, Validation Loss: 0.0370, accuracy = 0.9836\n",
            "Epoch: 73, Training Loss: 0.0174, Validation Loss: 0.0268, accuracy = 0.9918\n",
            "Epoch: 74, Training Loss: 0.0054, Validation Loss: 0.0451, accuracy = 0.9836\n",
            "Epoch: 75, Training Loss: 0.0120, Validation Loss: 0.0288, accuracy = 0.9836\n",
            "Epoch: 76, Training Loss: 0.0338, Validation Loss: 0.0508, accuracy = 0.9836\n",
            "Epoch: 77, Training Loss: 0.0172, Validation Loss: 0.0110, accuracy = 0.9918\n",
            "Epoch: 78, Training Loss: 0.0204, Validation Loss: 0.0074, accuracy = 1.0000\n",
            "Epoch: 79, Training Loss: 0.0164, Validation Loss: 0.0230, accuracy = 0.9918\n",
            "Epoch: 80, Training Loss: 0.0059, Validation Loss: 0.0160, accuracy = 0.9918\n",
            "Epoch: 81, Training Loss: 0.0078, Validation Loss: 0.0590, accuracy = 0.9836\n",
            "Epoch: 82, Training Loss: 0.0102, Validation Loss: 0.0181, accuracy = 0.9918\n",
            "Epoch: 83, Training Loss: 0.0053, Validation Loss: 0.0513, accuracy = 0.9836\n",
            "Epoch: 84, Training Loss: 0.0067, Validation Loss: 0.0174, accuracy = 0.9918\n",
            "Epoch: 85, Training Loss: 0.0128, Validation Loss: 0.0139, accuracy = 0.9918\n",
            "Epoch: 86, Training Loss: 0.0127, Validation Loss: 0.0100, accuracy = 0.9918\n",
            "Epoch: 87, Training Loss: 0.0101, Validation Loss: 0.0147, accuracy = 0.9918\n",
            "Epoch: 88, Training Loss: 0.0060, Validation Loss: 0.0212, accuracy = 0.9918\n",
            "Epoch: 89, Training Loss: 0.0039, Validation Loss: 0.0238, accuracy = 0.9918\n",
            "Epoch: 90, Training Loss: 0.0028, Validation Loss: 0.0331, accuracy = 0.9918\n",
            "Epoch: 91, Training Loss: 0.0039, Validation Loss: 0.0361, accuracy = 0.9918\n",
            "Epoch: 92, Training Loss: 0.0074, Validation Loss: 0.0385, accuracy = 0.9918\n",
            "Epoch: 93, Training Loss: 0.0161, Validation Loss: 0.0128, accuracy = 0.9918\n",
            "Epoch: 94, Training Loss: 0.0061, Validation Loss: 0.0400, accuracy = 0.9918\n",
            "Epoch: 95, Training Loss: 0.0069, Validation Loss: 0.0242, accuracy = 0.9918\n",
            "Epoch: 96, Training Loss: 0.0082, Validation Loss: 0.0220, accuracy = 0.9918\n",
            "Epoch: 97, Training Loss: 0.0099, Validation Loss: 0.0223, accuracy = 0.9918\n",
            "Epoch: 98, Training Loss: 0.0028, Validation Loss: 0.0167, accuracy = 0.9918\n",
            "Epoch: 99, Training Loss: 0.0104, Validation Loss: 0.0682, accuracy = 0.9836\n",
            "\n"
          ],
          "name": "stdout"
        }
      ]
    },
    {
      "cell_type": "markdown",
      "metadata": {
        "id": "q6kv06U8x7j0"
      },
      "source": [
        "## Graphs"
      ]
    },
    {
      "cell_type": "code",
      "metadata": {
        "colab": {
          "base_uri": "https://localhost:8080/",
          "height": 623
        },
        "id": "9u_MisR8U3uw",
        "outputId": "2289e9c5-ba23-4021-d3bd-3b9d9da9c24f"
      },
      "source": [
        "import matplotlib.pyplot as plt\n",
        "import seaborn as sns\n",
        "plt.figure(figsize=(10,10))\n",
        "sns.lineplot(data=train_loss)\n",
        "sns.lineplot(data=test_loss)\n",
        "plt.xlabel(\"# epochs\")\n",
        "plt.ylabel(\"loss\")\n",
        "plt.legend(['training_loss','validation_loss'])\n"
      ],
      "execution_count": 16,
      "outputs": [
        {
          "output_type": "execute_result",
          "data": {
            "text/plain": [
              "<matplotlib.legend.Legend at 0x7fd597b17b50>"
            ]
          },
          "metadata": {
            "tags": []
          },
          "execution_count": 16
        },
        {
          "output_type": "display_data",
          "data": {
            "image/png": "[encoded data removed]",
            "text/plain": [
              "<Figure size 720x720 with 1 Axes>"
            ]
          },
          "metadata": {
            "tags": [],
            "needs_background": "light"
          }
        }
      ]
    },
    {
      "cell_type": "code",
      "metadata": {
        "colab": {
          "base_uri": "https://localhost:8080/",
          "height": 296
        },
        "id": "oSpIQ3UEZ56u",
        "outputId": "29a3b43b-e053-4752-dfec-c2ea3316bcf8"
      },
      "source": [
        "sns.lineplot(data=test_accuracy)\n",
        "plt.xlabel(\"# Epochs\")\n",
        "plt.ylabel(\"Validation accuracy\")"
      ],
      "execution_count": 17,
      "outputs": [
        {
          "output_type": "execute_result",
          "data": {
            "text/plain": [
              "Text(0, 0.5, 'Validation accuracy')"
            ]
          },
          "metadata": {
            "tags": []
          },
          "execution_count": 17
        },
        {
          "output_type": "display_data",
          "data": {
            "image/png": "[encoded data removed]",
            "text/plain": [
              "<Figure size 432x288 with 1 Axes>"
            ]
          },
          "metadata": {
            "tags": [],
            "needs_background": "light"
          }
        }
      ]
    },
    {
      "cell_type": "code",
      "metadata": {
        "id": "38J0mdCs9Eai"
      },
      "source": [
        "# Saving the model\n",
        "torch.save(model, \"final_model.pth\")"
      ],
      "execution_count": 18,
      "outputs": []
    },
    {
      "cell_type": "code",
      "metadata": {
        "id": "MkA_kg3rzkGX"
      },
      "source": [
        ""
      ],
      "execution_count": null,
      "outputs": []
    }
  ]
}